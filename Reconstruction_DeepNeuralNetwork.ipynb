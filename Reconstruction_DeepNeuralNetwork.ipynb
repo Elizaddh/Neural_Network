{
  "nbformat": 4,
  "nbformat_minor": 0,
  "metadata": {
    "colab": {
      "name": "Reconstruction_DeepNeuralNetwork.ipynb",
      "provenance": [],
      "collapsed_sections": [],
      "include_colab_link": true
    },
    "kernelspec": {
      "name": "python3",
      "display_name": "Python 3"
    },
    "language_info": {
      "name": "python"
    }
  },
  "cells": [
    {
      "cell_type": "markdown",
      "metadata": {
        "id": "view-in-github",
        "colab_type": "text"
      },
      "source": [
        "<a href=\"https://colab.research.google.com/github/Elizaddh/Neural_Network/blob/16input500output/Reconstruction_DeepNeuralNetwork.ipynb\" target=\"_parent\"><img src=\"https://colab.research.google.com/assets/colab-badge.svg\" alt=\"Open In Colab\"/></a>"
      ]
    },
    {
      "cell_type": "code",
      "metadata": {
        "colab": {
          "base_uri": "https://localhost:8080/",
          "height": 0
        },
        "id": "ZKS71VZW7qbO",
        "outputId": "eb6fdef3-1d0c-4ccf-aff2-988688b17bdf"
      },
      "source": [
        "# Load the Drive helper and mount\n",
        "from google.colab import drive\n",
        "\n",
        "# This will prompt for authorization.\n",
        "drive.mount('/content/drive')\n",
        "\n",
        "\n"
      ],
      "execution_count": 3,
      "outputs": [
        {
          "output_type": "stream",
          "text": [
            "Drive already mounted at /content/drive; to attempt to forcibly remount, call drive.mount(\"/content/drive\", force_remount=True).\n"
          ],
          "name": "stdout"
        }
      ]
    },
    {
      "cell_type": "code",
      "metadata": {
        "id": "__NgBh8B72Ob"
      },
      "source": [
        "#load dataset\n",
        "import numpy as np\n",
        "\n",
        "X= np.loadtxt(\"/content/drive/My Drive/Dataset_DNN/training_output_data_transformed.txt\")\n",
        "Y= np.loadtxt(\"/content/drive/My Drive/Dataset_DNN/training_input_data_transformed.txt\")"
      ],
      "execution_count": 4,
      "outputs": []
    },
    {
      "cell_type": "code",
      "metadata": {
        "id": "4VFh0HYwGpsV"
      },
      "source": [
        "#load modules and packages\n",
        "import numpy as np\n",
        "import pandas as pd\n",
        "import ast\n",
        "from numpy import array\n",
        "import matplotlib.pyplot as plt\n",
        "from keras.layers import Dropout\n",
        "from tensorflow import keras\n",
        "from keras.utils import plot_model\n",
        "from keras.models import Sequential\n",
        "from keras.layers import Dense\n",
        "from keras.wrappers.scikit_learn import KerasRegressor\n",
        "from sklearn.model_selection import cross_val_score\n",
        "from sklearn.model_selection import KFold\n",
        "from sklearn.preprocessing import StandardScaler\n",
        "#import generating_datafortraining as dtgen\n",
        "from sklearn.preprocessing import MinMaxScaler"
      ],
      "execution_count": 5,
      "outputs": []
    },
    {
      "cell_type": "code",
      "metadata": {
        "colab": {
          "base_uri": "https://localhost:8080/",
          "height": 2066
        },
        "id": "weTBDWolGcbx",
        "outputId": "87da2cf0-951f-4ae4-966b-2eca37797974"
      },
      "source": [
        "    #Prepare for running DNN\n",
        "    Xn = X[0:15,] # 15 samples  to later evaluate\n",
        "    Yn = Y[0:15,]\n",
        "    X = X[16:,] # rest samples used for training and validation # 80:20\n",
        "    Y = Y[16:,]\n",
        "    opt = keras.optimizers.Adam(learning_rate=10e-3)#,  beta_1=0.99)\n",
        "    model = Sequential()\n",
        "    model.add(Dense(64, input_dim=16,dtype = 'float64',  kernel_initializer='random_normal', activation='relu'))\n",
        "    #model.add(Dropout(0.45))\n",
        "    model.add(Dense(100, activation='relu',dtype= 'float64', kernel_initializer= 'random_normal'))\t\n",
        "    #model.add(Dropout(0.45))\n",
        "    model.add(Dense(250,kernel_initializer = 'random_normal',  dtype = 'float64', activation = 'relu'))\n",
        "    #model.add(Dropout(0.45))\n",
        "    model.add(Dense(350, kernel_initializer = 'random_normal',  dtype = 'float64', activation = 'relu'))\n",
        "    model.add(Dense(500,dtype = 'float64'))\n",
        "    # Compile model\n",
        "    print(\"The model is compiling\")\n",
        "    #model.compile(loss='mean_squared_logarithmic_error', optimizer=opt)\n",
        "    model.compile(loss='mean_squared_error',optimizer = opt,  metrics=['mean_absolute_error'])\n",
        "    #model.compile(loss='mean_squared_error', optimizer=opt)\n",
        "    print(\"The model is training\")\n",
        "    history = model.fit(X, Y,validation_split = 0.20, epochs=40, batch_size=1000, verbose=1)\n",
        "    model.summary()\n",
        "    \n",
        "    print(history.history.keys())\n",
        "    print(history.history['loss'])\n",
        "    #plt.plot(history.history['accuracy'])\n",
        "    #plt.plot(history.history['val_accuracy'])\n",
        "    #plt.title('model accuracy')\n",
        "    #plt.ylabel('accuracy')\n",
        "    #plt.xlabel('epoch')\n",
        "    #plt.legend(['train', 'test'], loc='upper left')\n",
        "    #plt.show()\n",
        "    #plt.savefig(\"linearmodel_Accuracy_drop.2.png\")\n",
        "    # summarize history for loss\n",
        "    plt.plot(history.history['loss'])\n",
        "    plt.plot(history.history['val_loss'])\n",
        "    plt.legend(['training_loss', 'validation_loss'], loc = 'upper left')\n",
        "    plt.title('model loss')\n",
        "    plt.ylabel('loss')\n",
        "    plt.xlabel('epoch')\n",
        "    #plt.legend(['train', 'test'], loc='upper left')\n",
        "    #plt.show()\n",
        "    #plot_model(model, to_file='model_shared_input_layer.png')\n",
        "    plt.savefig(\"50000_relu_mse_e6_6400_3200_1600_500_50epo.png\")\n",
        "    print(\"The model is successfully made\")\n",
        "    \n"
      ],
      "execution_count": 6,
      "outputs": [
        {
          "output_type": "stream",
          "text": [
            "The model is compiling\n",
            "The model is training\n",
            "Epoch 1/40\n",
            "80/80 [==============================] - 7s 83ms/step - loss: 0.0544 - mean_absolute_error: 0.1443 - val_loss: 0.0313 - val_mean_absolute_error: 0.1008\n",
            "Epoch 2/40\n",
            "80/80 [==============================] - 6s 80ms/step - loss: 0.0314 - mean_absolute_error: 0.1004 - val_loss: 0.0311 - val_mean_absolute_error: 0.0994\n",
            "Epoch 3/40\n",
            "80/80 [==============================] - 6s 78ms/step - loss: 0.0297 - mean_absolute_error: 0.0991 - val_loss: 0.0257 - val_mean_absolute_error: 0.0943\n",
            "Epoch 4/40\n",
            "80/80 [==============================] - 6s 78ms/step - loss: 0.0246 - mean_absolute_error: 0.0928 - val_loss: 0.0210 - val_mean_absolute_error: 0.0892\n",
            "Epoch 5/40\n",
            "80/80 [==============================] - 6s 77ms/step - loss: 0.0193 - mean_absolute_error: 0.0847 - val_loss: 0.0149 - val_mean_absolute_error: 0.0756\n",
            "Epoch 6/40\n",
            "80/80 [==============================] - 6s 77ms/step - loss: 0.0142 - mean_absolute_error: 0.0728 - val_loss: 0.0124 - val_mean_absolute_error: 0.0664\n",
            "Epoch 7/40\n",
            "80/80 [==============================] - 6s 77ms/step - loss: 0.0116 - mean_absolute_error: 0.0652 - val_loss: 0.0106 - val_mean_absolute_error: 0.0620\n",
            "Epoch 8/40\n",
            "80/80 [==============================] - 6s 77ms/step - loss: 0.0101 - mean_absolute_error: 0.0605 - val_loss: 0.0097 - val_mean_absolute_error: 0.0589\n",
            "Epoch 9/40\n",
            "80/80 [==============================] - 6s 79ms/step - loss: 0.0093 - mean_absolute_error: 0.0575 - val_loss: 0.0089 - val_mean_absolute_error: 0.0560\n",
            "Epoch 10/40\n",
            "80/80 [==============================] - 6s 77ms/step - loss: 0.0088 - mean_absolute_error: 0.0557 - val_loss: 0.0086 - val_mean_absolute_error: 0.0551\n",
            "Epoch 11/40\n",
            "80/80 [==============================] - 6s 76ms/step - loss: 0.0083 - mean_absolute_error: 0.0544 - val_loss: 0.0087 - val_mean_absolute_error: 0.0556\n",
            "Epoch 12/40\n",
            "80/80 [==============================] - 6s 76ms/step - loss: 0.0079 - mean_absolute_error: 0.0532 - val_loss: 0.0081 - val_mean_absolute_error: 0.0537\n",
            "Epoch 13/40\n",
            "80/80 [==============================] - 6s 77ms/step - loss: 0.0075 - mean_absolute_error: 0.0518 - val_loss: 0.0076 - val_mean_absolute_error: 0.0527\n",
            "Epoch 14/40\n",
            "80/80 [==============================] - 6s 78ms/step - loss: 0.0074 - mean_absolute_error: 0.0516 - val_loss: 0.0073 - val_mean_absolute_error: 0.0509\n",
            "Epoch 15/40\n",
            "80/80 [==============================] - 6s 76ms/step - loss: 0.0070 - mean_absolute_error: 0.0499 - val_loss: 0.0074 - val_mean_absolute_error: 0.0511\n",
            "Epoch 16/40\n",
            "80/80 [==============================] - 6s 77ms/step - loss: 0.0071 - mean_absolute_error: 0.0505 - val_loss: 0.0067 - val_mean_absolute_error: 0.0489\n",
            "Epoch 17/40\n",
            "80/80 [==============================] - 6s 79ms/step - loss: 0.0066 - mean_absolute_error: 0.0485 - val_loss: 0.0064 - val_mean_absolute_error: 0.0476\n",
            "Epoch 18/40\n",
            "80/80 [==============================] - 6s 78ms/step - loss: 0.0064 - mean_absolute_error: 0.0477 - val_loss: 0.0064 - val_mean_absolute_error: 0.0477\n",
            "Epoch 19/40\n",
            "80/80 [==============================] - 6s 77ms/step - loss: 0.0064 - mean_absolute_error: 0.0478 - val_loss: 0.0063 - val_mean_absolute_error: 0.0470\n",
            "Epoch 20/40\n",
            "80/80 [==============================] - 6s 77ms/step - loss: 0.0064 - mean_absolute_error: 0.0479 - val_loss: 0.0062 - val_mean_absolute_error: 0.0472\n",
            "Epoch 21/40\n",
            "80/80 [==============================] - 6s 78ms/step - loss: 0.0062 - mean_absolute_error: 0.0472 - val_loss: 0.0060 - val_mean_absolute_error: 0.0458\n",
            "Epoch 22/40\n",
            "80/80 [==============================] - 6s 77ms/step - loss: 0.0064 - mean_absolute_error: 0.0483 - val_loss: 0.0060 - val_mean_absolute_error: 0.0458\n",
            "Epoch 23/40\n",
            "80/80 [==============================] - 6s 77ms/step - loss: 0.0060 - mean_absolute_error: 0.0458 - val_loss: 0.0060 - val_mean_absolute_error: 0.0465\n",
            "Epoch 24/40\n",
            "80/80 [==============================] - 6s 77ms/step - loss: 0.0060 - mean_absolute_error: 0.0460 - val_loss: 0.0058 - val_mean_absolute_error: 0.0452\n",
            "Epoch 25/40\n",
            "80/80 [==============================] - 6s 76ms/step - loss: 0.0058 - mean_absolute_error: 0.0453 - val_loss: 0.0057 - val_mean_absolute_error: 0.0453\n",
            "Epoch 26/40\n",
            "80/80 [==============================] - 6s 75ms/step - loss: 0.0058 - mean_absolute_error: 0.0458 - val_loss: 0.0056 - val_mean_absolute_error: 0.0444\n",
            "Epoch 27/40\n",
            "80/80 [==============================] - 6s 74ms/step - loss: 0.0055 - mean_absolute_error: 0.0440 - val_loss: 0.0056 - val_mean_absolute_error: 0.0444\n",
            "Epoch 28/40\n",
            "80/80 [==============================] - 6s 74ms/step - loss: 0.0057 - mean_absolute_error: 0.0451 - val_loss: 0.0060 - val_mean_absolute_error: 0.0460\n",
            "Epoch 29/40\n",
            "80/80 [==============================] - 6s 74ms/step - loss: 0.0056 - mean_absolute_error: 0.0445 - val_loss: 0.0066 - val_mean_absolute_error: 0.0484\n",
            "Epoch 30/40\n",
            "80/80 [==============================] - 6s 75ms/step - loss: 0.0061 - mean_absolute_error: 0.0468 - val_loss: 0.0054 - val_mean_absolute_error: 0.0429\n",
            "Epoch 31/40\n",
            "80/80 [==============================] - 6s 74ms/step - loss: 0.0054 - mean_absolute_error: 0.0435 - val_loss: 0.0053 - val_mean_absolute_error: 0.0430\n",
            "Epoch 32/40\n",
            "80/80 [==============================] - 6s 75ms/step - loss: 0.0056 - mean_absolute_error: 0.0441 - val_loss: 0.0053 - val_mean_absolute_error: 0.0428\n",
            "Epoch 33/40\n",
            "80/80 [==============================] - 6s 75ms/step - loss: 0.0053 - mean_absolute_error: 0.0427 - val_loss: 0.0057 - val_mean_absolute_error: 0.0445\n",
            "Epoch 34/40\n",
            "80/80 [==============================] - 6s 76ms/step - loss: 0.0055 - mean_absolute_error: 0.0442 - val_loss: 0.0054 - val_mean_absolute_error: 0.0433\n",
            "Epoch 35/40\n",
            "80/80 [==============================] - 6s 76ms/step - loss: 0.0054 - mean_absolute_error: 0.0436 - val_loss: 0.0053 - val_mean_absolute_error: 0.0428\n",
            "Epoch 36/40\n",
            "80/80 [==============================] - 6s 76ms/step - loss: 0.0053 - mean_absolute_error: 0.0429 - val_loss: 0.0055 - val_mean_absolute_error: 0.0442\n",
            "Epoch 37/40\n",
            "80/80 [==============================] - 6s 75ms/step - loss: 0.0054 - mean_absolute_error: 0.0434 - val_loss: 0.0051 - val_mean_absolute_error: 0.0420\n",
            "Epoch 38/40\n",
            "80/80 [==============================] - 6s 76ms/step - loss: 0.0051 - mean_absolute_error: 0.0418 - val_loss: 0.0051 - val_mean_absolute_error: 0.0418\n",
            "Epoch 39/40\n",
            "80/80 [==============================] - 6s 76ms/step - loss: 0.0053 - mean_absolute_error: 0.0427 - val_loss: 0.0050 - val_mean_absolute_error: 0.0412\n",
            "Epoch 40/40\n",
            "80/80 [==============================] - 6s 75ms/step - loss: 0.0051 - mean_absolute_error: 0.0416 - val_loss: 0.0057 - val_mean_absolute_error: 0.0442\n",
            "Model: \"sequential\"\n",
            "_________________________________________________________________\n",
            "Layer (type)                 Output Shape              Param #   \n",
            "=================================================================\n",
            "dense (Dense)                (None, 64)                1088      \n",
            "_________________________________________________________________\n",
            "dense_1 (Dense)              (None, 100)               6500      \n",
            "_________________________________________________________________\n",
            "dense_2 (Dense)              (None, 250)               25250     \n",
            "_________________________________________________________________\n",
            "dense_3 (Dense)              (None, 350)               87850     \n",
            "_________________________________________________________________\n",
            "dense_4 (Dense)              (None, 500)               175500    \n",
            "=================================================================\n",
            "Total params: 296,188\n",
            "Trainable params: 296,188\n",
            "Non-trainable params: 0\n",
            "_________________________________________________________________\n",
            "dict_keys(['loss', 'mean_absolute_error', 'val_loss', 'val_mean_absolute_error'])\n",
            "[0.04139265790581703, 0.03140542283654213, 0.028236091136932373, 0.023497669026255608, 0.017604805529117584, 0.013445261865854263, 0.011266122572124004, 0.009974314831197262, 0.00912424735724926, 0.008631243370473385, 0.008157956413924694, 0.007727454416453838, 0.007495671510696411, 0.007230215240269899, 0.007019829470664263, 0.006862613372504711, 0.00662629958242178, 0.006435367278754711, 0.006401601247489452, 0.006353828590363264, 0.006155459210276604, 0.00637021055445075, 0.005906298290938139, 0.005873133894056082, 0.005932292900979519, 0.0058598448522388935, 0.005624054465442896, 0.005664575379341841, 0.005565408151596785, 0.005794947035610676, 0.005428141448646784, 0.005608188454061747, 0.005387105047702789, 0.005571155808866024, 0.00542812142521143, 0.005419558845460415, 0.005218190606683493, 0.005071614868938923, 0.005145427770912647, 0.0050683291628956795]\n",
            "The model is successfully made\n"
          ],
          "name": "stdout"
        },
        {
          "output_type": "display_data",
          "data": {
            "image/png": "[encoded data removed]",
            "text/plain": [
              "<Figure size 432x288 with 1 Axes>"
            ]
          },
          "metadata": {
            "tags": [],
            "needs_background": "light"
          }
        }
      ]
    },
    {
      "cell_type": "code",
      "metadata": {
        "colab": {
          "base_uri": "https://localhost:8080/",
          "height": 0
        },
        "id": "rReXyHptNnBJ",
        "outputId": "e023ec88-ba9b-4e01-d985-febe0e655c89"
      },
      "source": [
        "score = model.evaluate(Xn,Yn)\n",
        "print(score[1], score[0], score)\n",
        "print(model.metrics_names)"
      ],
      "execution_count": 7,
      "outputs": [
        {
          "output_type": "stream",
          "text": [
            "1/1 [==============================] - 0s 13ms/step - loss: 0.0060 - mean_absolute_error: 0.0451\n",
            "0.04509277269244194 0.006027542520314455 [0.006027542520314455, 0.04509277269244194]\n",
            "['loss', 'mean_absolute_error']\n"
          ],
          "name": "stdout"
        }
      ]
    },
    {
      "cell_type": "code",
      "metadata": {
        "colab": {
          "base_uri": "https://localhost:8080/",
          "height": 0
        },
        "id": "-zGQmrs8OSHT",
        "outputId": "76f34294-f1d2-4f44-b689-da412254c8d1"
      },
      "source": [
        "Yn_predicted = model.predict(Xn)\n",
        "print(np.shape(Yn_predicted))"
      ],
      "execution_count": 8,
      "outputs": [
        {
          "output_type": "stream",
          "text": [
            "(15, 500)\n"
          ],
          "name": "stdout"
        }
      ]
    },
    {
      "cell_type": "code",
      "metadata": {
        "colab": {
          "base_uri": "https://localhost:8080/",
          "height": 265
        },
        "id": "6ApVvXKZOmZr",
        "outputId": "66fbfbf1-d6eb-4b53-e284-af81a84395f6"
      },
      "source": [
        "x_axis = np.linspace(100, 200, 500)\n",
        "#change value of i from 0 to 14\n",
        "i = 0\n",
        "plt.plot(x_axis,abs( Yn_predicted[i]), \"r-.\", ms=4.5, lw=2.0, label='Predicted values')\n",
        "plt.plot(x_axis, Yn[i], \"b\", ms=4.5, lw=2.0, label='Test input values')\n",
        "plt.legend(['predicted_values', 'reconstructed_values'], loc = 'upper right')\n",
        "plt.savefig(\"Reconstructed.png\")\n"
      ],
      "execution_count": 13,
      "outputs": [
        {
          "output_type": "display_data",
          "data": {
            "image/png": "[encoded data removed]",
            "text/plain": [
              "<Figure size 432x288 with 1 Axes>"
            ]
          },
          "metadata": {
            "tags": [],
            "needs_background": "light"
          }
        }
      ]
    }
  ]
}